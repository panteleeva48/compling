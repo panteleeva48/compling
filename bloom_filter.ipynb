{
 "cells": [
  {
   "cell_type": "markdown",
   "metadata": {},
   "source": [
    "# Assignment 1"
   ]
  },
  {
   "cell_type": "markdown",
   "metadata": {},
   "source": [
    "1.\n",
    "Реализовать Блум фильтр с помощью битового массива.\n",
    "Например, вы можете использовать [Битовые операции](https://wiki.python.org/moin/BitwiseOperators) или библиотеку bitarray."
   ]
  },
  {
   "cell_type": "code",
   "execution_count": 1,
   "metadata": {
    "collapsed": true
   },
   "outputs": [],
   "source": [
    "from bitarray import bitarray\n",
    "import math\n",
    "import string\n",
    "from random import shuffle\n",
    "from tqdm import tqdm_notebook as tqdm\n",
    "from strgen import StringGenerator\n",
    "import warnings\n",
    "import random\n",
    "warnings.filterwarnings('ignore')\n",
    "import matplotlib.pyplot as plt\n",
    "%matplotlib inline "
   ]
  },
  {
   "cell_type": "markdown",
   "metadata": {},
   "source": [
    "* p - false positive rate\n",
    "* m  - размер битового массива\n",
    "* n - количество хранимых элементов в фильтре\n",
    "* k - количество хеш-функций"
   ]
  },
  {
   "cell_type": "code",
   "execution_count": 2,
   "metadata": {
    "collapsed": true
   },
   "outputs": [],
   "source": [
    "class BloomFilter():\n",
    "    \n",
    "    def __init__(self, n, p):\n",
    "        self.p = p \n",
    "        self.m = self.size_ba(n, p) # размер битового массива\n",
    "        self.k = self.k_hashfunctions(self.m, n) # количество хеш-функций\n",
    "        self.my_p = (1-math.exp(-(self.k*n)/self.m))**(self.k) # my false positive rate\n",
    "        self.ba = bitarray([False]*self.m) # создание битового массива\n",
    "\n",
    "    def poly_hash(self, s, x=31, p=1000003):\n",
    "        h = 0\n",
    "        for j in range(len(s)-1, -1, -1):\n",
    "            h = (h * x + ord(s[j]) + p) % p\n",
    "        return h\n",
    "    \n",
    "    def hash_int(self, x, a=112, b=22, p=1000003):\n",
    "        return (a*x + b) % p\n",
    "\n",
    "    def choose_hash(self, el, i, p=1000003):\n",
    "        if isinstance(el, str):\n",
    "            return self.poly_hash(el, x=i, p=p)\n",
    "        elif isinstance(el, int):\n",
    "            return self.hash_int(el, a=i, b=i+5, p=p)\n",
    "        else:\n",
    "            raise TypeError('Тип данных должен быть строка или целое число!')\n",
    "\n",
    "    def add_el(self, el):\n",
    "        cells = []\n",
    "        k = self.k\n",
    "        for i in range(k):\n",
    "            cell = self.choose_hash(el, i)\n",
    "            cells.append(cell)\n",
    "            self.ba[cell] = True\n",
    "         \n",
    "    def contains_el(self, el):\n",
    "        k = self.k\n",
    "        for i in range(k):\n",
    "            cell = self.choose_hash(el, i)\n",
    "            if self.ba[cell] == False:\n",
    "                return False\n",
    "        return True\n",
    "\n",
    "    def size_ba(self, n, p):\n",
    "        m = n*math.log(1/p)/math.log(2)**2\n",
    "        return int(m)\n",
    "\n",
    "    def k_hashfunctions(self, m, n):\n",
    "        k = (m/n) * math.log(2)\n",
    "        return int(k)"
   ]
  },
  {
   "cell_type": "markdown",
   "metadata": {},
   "source": [
    "2.\n",
    "Провести численный эксперимент при false postive rate = 0.05, и количестве объектов S = 1 000 000.\n",
    "Убедится, полученные на семинаре оптимальные параметры фильтра позволяют достичь заявленного false positive rate.\n",
    "Посчитать  $\\frac {\\epsilon - \\hat \\epsilon} \\epsilon$, где $\\hat \\epsilon$ - ваша экспериментальная оценка false positive rate. В качестве объектов используйте строки."
   ]
  },
  {
   "cell_type": "markdown",
   "metadata": {},
   "source": [
    "### Генерация строк"
   ]
  },
  {
   "cell_type": "code",
   "execution_count": null,
   "metadata": {
    "collapsed": true
   },
   "outputs": [],
   "source": [
    "f= open('strings.txt', 'w+')\n",
    "for i in tqdm(range(100)):\n",
    "    length_of_str = str(3+i)\n",
    "    for string in StringGenerator('[\\w\\p\\d\\l\\c\\h\\p]{' + length_of_str + '}').render_list(10**4, unique=True):\n",
    "        f.write(string + '\\n')\n",
    "f.close()"
   ]
  },
  {
   "cell_type": "code",
   "execution_count": 3,
   "metadata": {
    "collapsed": true
   },
   "outputs": [],
   "source": [
    "with open('strings.txt', 'r') as f:   \n",
    "    strings = f.readlines() "
   ]
  },
  {
   "cell_type": "code",
   "execution_count": 4,
   "metadata": {},
   "outputs": [
    {
     "data": {
      "application/vnd.jupyter.widget-view+json": {
       "model_id": "97ac3cd4065947b2b73148f99e329cad",
       "version_major": 2,
       "version_minor": 0
      },
      "text/plain": [
       "A Jupyter Widget"
      ]
     },
     "metadata": {},
     "output_type": "display_data"
    },
    {
     "name": "stdout",
     "output_type": "stream",
     "text": [
      "\n"
     ]
    }
   ],
   "source": [
    "ps = []\n",
    "for t in tqdm(range(1, 8)):\n",
    "    n = 10**t\n",
    "    p = 0.05\n",
    "    bloomf = BloomFilter(n, p)\n",
    "    ps.append(round(bloomf.my_p, 6))"
   ]
  },
  {
   "cell_type": "code",
   "execution_count": 5,
   "metadata": {},
   "outputs": [
    {
     "data": {
      "text/plain": [
       "Text(0.5,0,'10**n elements in filter')"
      ]
     },
     "execution_count": 5,
     "metadata": {},
     "output_type": "execute_result"
    },
    {
     "data": {
      "image/png": "[encoded data removed]",
      "text/plain": [
       "<matplotlib.figure.Figure at 0x11998a470>"
      ]
     },
     "metadata": {},
     "output_type": "display_data"
    }
   ],
   "source": [
    "fig, ax = plt.subplots()\n",
    "ax.plot(range(1,8), ps)\n",
    "plt.title('Зависимость false positive rate от кол-ва эл-ов в фильтре')\n",
    "plt.ylabel('false positive rate')\n",
    "plt.xlabel('10**n elements in filter')"
   ]
  },
  {
   "cell_type": "code",
   "execution_count": 6,
   "metadata": {},
   "outputs": [
    {
     "name": "stdout",
     "output_type": "stream",
     "text": [
      "Размер битового массива: 6235224\n",
      "Экспериментальная оценка false positive rate: 0.050269488449500244\n",
      "Количество хеш-функций: 4\n"
     ]
    }
   ],
   "source": [
    "n = 10**6\n",
    "p = 0.05\n",
    "bloomf = BloomFilter(n, p)\n",
    "print(\"Размер битового массива:\", str(bloomf.m))\n",
    "print(\"Экспериментальная оценка false positive rate:\",str(bloomf.my_p))\n",
    "print(\"Количество хеш-функций:\", str(bloomf.k))"
   ]
  },
  {
   "cell_type": "code",
   "execution_count": 7,
   "metadata": {
    "collapsed": true
   },
   "outputs": [],
   "source": [
    "S = strings"
   ]
  },
  {
   "cell_type": "code",
   "execution_count": 8,
   "metadata": {},
   "outputs": [
    {
     "name": "stdout",
     "output_type": "stream",
     "text": [
      "CPU times: user 3 µs, sys: 1e+03 ns, total: 4 µs\n",
      "Wall time: 6.91 µs\n"
     ]
    },
    {
     "data": {
      "application/vnd.jupyter.widget-view+json": {
       "model_id": "9b729556b55049b881ab18199144da2a",
       "version_major": 2,
       "version_minor": 0
      },
      "text/plain": [
       "A Jupyter Widget"
      ]
     },
     "metadata": {},
     "output_type": "display_data"
    },
    {
     "name": "stdout",
     "output_type": "stream",
     "text": [
      "\n"
     ]
    }
   ],
   "source": [
    "% time \n",
    "for el in tqdm(S): \n",
    "    bloomf.add_el(el) "
   ]
  },
  {
   "cell_type": "code",
   "execution_count": 9,
   "metadata": {},
   "outputs": [],
   "source": [
    "new_str = StringGenerator('[\\w\\p\\d\\l\\c\\h\\p]{105}').render_list(10, unique=True)"
   ]
  },
  {
   "cell_type": "code",
   "execution_count": 10,
   "metadata": {
    "collapsed": true
   },
   "outputs": [],
   "source": [
    "test = random.sample(S, 10) + new_str"
   ]
  },
  {
   "cell_type": "code",
   "execution_count": 11,
   "metadata": {},
   "outputs": [
    {
     "data": {
      "application/vnd.jupyter.widget-view+json": {
       "model_id": "d77d6fd6d87f43f4b41797655f441b8b",
       "version_major": 2,
       "version_minor": 0
      },
      "text/plain": [
       "A Jupyter Widget"
      ]
     },
     "metadata": {},
     "output_type": "display_data"
    },
    {
     "name": "stdout",
     "output_type": "stream",
     "text": [
      "1-ая строка в фильтре\n",
      "2-ая строка в фильтре\n",
      "3-ая строка в фильтре\n",
      "4-ая строка в фильтре\n",
      "5-ая строка в фильтре\n",
      "6-ая строка в фильтре\n",
      "7-ая строка в фильтре\n",
      "8-ая строка в фильтре\n",
      "9-ая строка в фильтре\n",
      "10-ая строка в фильтре\n",
      "11-ая строка - false positive\n",
      "12-ая строка не в фильтре\n",
      "13-ая строка - false positive\n",
      "14-ая строка - false positive\n",
      "15-ая строка - false positive\n",
      "16-ая строка - false positive\n",
      "17-ая строка не в фильтре\n",
      "18-ая строка не в фильтре\n",
      "19-ая строка - false positive\n",
      "20-ая строка - false positive\n",
      "\n"
     ]
    }
   ],
   "source": [
    "for i, string in tqdm(enumerate(test)): \n",
    "    if bloomf.contains_el(string): \n",
    "        if string not in new_str:\n",
    "            print(str(i+1)+\"-ая строка в фильтре\")\n",
    "        else: \n",
    "            print(str(i+1)+\"-ая строка - false positive\") \n",
    "    else: \n",
    "        print(str(i+1)+\"-ая строка не в фильтре\") "
   ]
  },
  {
   "cell_type": "markdown",
   "metadata": {},
   "source": [
    "Посчитаем $\\frac {\\epsilon - \\hat \\epsilon} \\epsilon$:"
   ]
  },
  {
   "cell_type": "code",
   "execution_count": 12,
   "metadata": {},
   "outputs": [
    {
     "data": {
      "text/plain": [
       "-0.005389768990004817"
      ]
     },
     "execution_count": 12,
     "metadata": {},
     "output_type": "execute_result"
    }
   ],
   "source": [
    "(0.05-bloomf.my_p)/0.05"
   ]
  }
 ],
 "metadata": {
  "kernelspec": {
   "display_name": "Python 3",
   "language": "python",
   "name": "python3"
  },
  "language_info": {
   "codemirror_mode": {
    "name": "ipython",
    "version": 3
   },
   "file_extension": ".py",
   "mimetype": "text/x-python",
   "name": "python",
   "nbconvert_exporter": "python",
   "pygments_lexer": "ipython3",
   "version": "3.6.3"
  },
  "widgets": {
   "state": {},
   "version": "1.1.2"
  }
 },
 "nbformat": 4,
 "nbformat_minor": 2
}

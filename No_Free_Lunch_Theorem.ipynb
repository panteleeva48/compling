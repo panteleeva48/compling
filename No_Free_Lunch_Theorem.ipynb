{
 "cells": [
  {
   "cell_type": "markdown",
   "metadata": {},
   "source": [
    "# Assignment 2"
   ]
  },
  {
   "cell_type": "markdown",
   "metadata": {},
   "source": [
    "Продемонстрировать положение No Free Lunch Theorem. (см материалы семинара)   \n",
    "Качество работы оценивается по accuracy на тестовой выборке согласно пайплайну (см материалы семинара). Метод валидации (если вы его применяете) 5-fold cv.  \n",
    "В выводе для каждой модели указать какие предположения она делает относительно данных. В выводе указать почему модель плохо / хорошо работает на сгенерированной вами выборке. Использовать пространство признаков размерности 2 при классификации и размерности 1 при регрессии. При возможности, нарисовать выборку на графике (цветами обозначить классы).  \n",
    "\n",
    "\n",
    "1. Сгенерировать датасет для задачи бинарной классификации (binary crossentropy), \n",
    "на котором метод ближайших соседей работает хуже, чем логистическая регрессия. \n",
    "\n",
    "2. Сгенерировать датасет для задачи бинарной классификации (binary crossentropy), \n",
    "на котором логистическая регрессия работает хуже, чем метод ближайших соседей.\n",
    "\n",
    "3. Сгенерировать датасет для задачи бинарной классификации (binary crossentropy), \n",
    "на котором метод ближайших соседей с косинусной метрикой расстояния работает лучше, чем с евклидовой метрикой.\n",
    "\n",
    "4. Сгенерировать датасет для задачи регрессии (MSE),\n",
    "на котором решающее дерево работает хуже, чем линейная регрессия. \n"
   ]
  },
  {
   "cell_type": "markdown",
   "metadata": {},
   "source": [
    "No Free Lunch Theorem гласит, что не существует такого классификатора, который бы подошёл под все виды данных. На каких-то данных классфикатор обязательно должен сработать плохо, так как используемый метод классификации не релевантен для таких данных."
   ]
  },
  {
   "cell_type": "code",
   "execution_count": 1,
   "metadata": {
    "collapsed": true
   },
   "outputs": [],
   "source": [
    "import matplotlib.pyplot as plt\n",
    "from sklearn.linear_model import LogisticRegression, LinearRegression\n",
    "from sklearn.neighbors import KNeighborsClassifier\n",
    "from sklearn.metrics import accuracy_score, mean_squared_error\n",
    "%matplotlib inline\n",
    "from sklearn.model_selection import train_test_split, cross_val_score, KFold\n",
    "import warnings\n",
    "warnings.filterwarnings(\"ignore\")\n",
    "from sklearn.tree import DecisionTreeRegressor\n",
    "import numpy as np\n",
    "import random"
   ]
  },
  {
   "cell_type": "markdown",
   "metadata": {
    "collapsed": true
   },
   "source": [
    "### 1. Сгенерировать датасет для задачи бинарной классификации (binary crossentropy), на котором метод ближайших соседей работает хуже, чем логистическая регрессия."
   ]
  },
  {
   "cell_type": "markdown",
   "metadata": {},
   "source": [
    "##### Предположения относительно данных:\n",
    "* __Метод ближайших соседей__\n",
    "\n",
    "Метод основан на предположении о том, что близким объектам в признаковом пространстве соответствуют похожие метки, то есть объекты собираются в \"плеяды\" (разделимые множества точек).\n",
    "* __Логистическая регрессия__\n",
    "\n",
    "Основная идея логистической регрессии заключается в том, что пространство исходных значений может быть разделено линейной границей на две соответствующих классам области. В каждой такой области находятся разные классы.\n",
    "\n",
    "##### Какая выборка нужна для доказательства No Free Lunch Theorem\n",
    "Для нахождения расстояния в методе ближайших соседей используется Евклидово расстояние, поэтому между объектами одного класса оно должно быть минимальным (тогда KNN сработает плохо). Классы должны быть хорошо разделимы линией (тогда LR сработает хорошо). Таким является выборка, когда у нас есть две параллельные прямые линии, которые располагаются близко друг к другу: если взять одну точку на линии **a**, то минимальным расстоянием оказывается точка на линии **b**, а не на линии **a**. Такие параллельные прямые отлично разделяются прямой."
   ]
  },
  {
   "cell_type": "code",
   "execution_count": 2,
   "metadata": {},
   "outputs": [],
   "source": [
    "def generate_LR(num_obj=100):\n",
    "    arr = np.array(range(0, num_obj, 2))\n",
    "    x0 = arr.reshape(-1, 1)\n",
    "    y0 = arr.reshape(-1, 1)\n",
    "    zero = np.hstack([x0, y0])\n",
    "    x1 = arr.reshape(-1, 1)\n",
    "    y1 = np.array([x+1 for x in x1]).reshape(-1, 1)\n",
    "    one = np.hstack([x1, y1])\n",
    "    X = np.concatenate((zero, one), axis=0)\n",
    "    Y = np.concatenate((np.zeros(len(one)), np.ones(len(zero))))\n",
    "    return X, Y"
   ]
  },
  {
   "cell_type": "code",
   "execution_count": 3,
   "metadata": {},
   "outputs": [
    {
     "data": {
      "text/plain": [
       "<matplotlib.collections.PathCollection at 0x10f591908>"
      ]
     },
     "execution_count": 3,
     "metadata": {},
     "output_type": "execute_result"
    },
    {
     "data": {
      "image/png": "[encoded data removed]",
      "text/plain": [
       "<matplotlib.figure.Figure at 0x10f4954e0>"
      ]
     },
     "metadata": {},
     "output_type": "display_data"
    }
   ],
   "source": [
    "X, Y = generate_LR(num_obj=10)\n",
    "plt.scatter(X[:,0], X[:,1], c=Y)"
   ]
  },
  {
   "cell_type": "code",
   "execution_count": 4,
   "metadata": {},
   "outputs": [],
   "source": [
    "def first(num_obj=1000):\n",
    "    X, Y = generate_LR(num_obj=num_obj)\n",
    "    LR = LogisticRegression()\n",
    "    print('LogisticRegression:', np.mean((cross_val_score(LR, X, Y, scoring='accuracy', cv=KFold(5, random_state=231)))))\n",
    "    KNN = KNeighborsClassifier()\n",
    "    print('KNeighborsClassifier:', np.mean((cross_val_score(KNN, X, Y, scoring='accuracy', cv=KFold(5, random_state=231)))))"
   ]
  },
  {
   "cell_type": "code",
   "execution_count": 5,
   "metadata": {},
   "outputs": [
    {
     "name": "stdout",
     "output_type": "stream",
     "text": [
      "LogisticRegression: 1.0\n",
      "KNeighborsClassifier: 0.0\n"
     ]
    }
   ],
   "source": [
    "first()"
   ]
  },
  {
   "cell_type": "markdown",
   "metadata": {},
   "source": [
    "Видим, что логистическая регрессия сработала лучше, чем метод ближайших соседей. Объяснение см. выше."
   ]
  },
  {
   "cell_type": "markdown",
   "metadata": {},
   "source": [
    "### 2. Сгенерировать датасет для задачи бинарной классификации (binary crossentropy), на котором логистическая регрессия работает хуже, чем метод ближайших соседей."
   ]
  },
  {
   "cell_type": "markdown",
   "metadata": {},
   "source": [
    "##### Какая выборка нужна для доказательства No Free Lunch Theorem\n",
    "Здесь ровно наоборот мыдолжный создать датасет, который бы выглядел обосбленными множествами в пространстве, чтобы между ними невозможно было провести прямую (с помощью логистической регрессии)."
   ]
  },
  {
   "cell_type": "code",
   "execution_count": 6,
   "metadata": {
    "collapsed": true
   },
   "outputs": [],
   "source": [
    "def generate_KNN(num_obj):\n",
    "    x, y = [], []\n",
    "    centers = (1, 1), (100, 100), (100, 1), (1, 100)\n",
    "    for center in centers:\n",
    "        for n in range(num_obj):\n",
    "            x.append(random.gauss(center[0],1))\n",
    "            y.append(random.gauss(center[1],1))\n",
    "    X = np.dstack((x, y))[0]\n",
    "    Y = np.concatenate((np.zeros(num_obj*2), np.ones(num_obj*2)))\n",
    "    return X, Y"
   ]
  },
  {
   "cell_type": "code",
   "execution_count": 7,
   "metadata": {},
   "outputs": [
    {
     "data": {
      "text/plain": [
       "<matplotlib.collections.PathCollection at 0x1146452b0>"
      ]
     },
     "execution_count": 7,
     "metadata": {},
     "output_type": "execute_result"
    },
    {
     "data": {
      "image/png": "[encoded data removed]",
      "text/plain": [
       "<matplotlib.figure.Figure at 0x10f5c49b0>"
      ]
     },
     "metadata": {},
     "output_type": "display_data"
    }
   ],
   "source": [
    "X, Y = generate_KNN(num_obj=1000)\n",
    "plt.scatter(X[:,0], X[:,1], c=Y)"
   ]
  },
  {
   "cell_type": "code",
   "execution_count": 8,
   "metadata": {
    "collapsed": true
   },
   "outputs": [],
   "source": [
    "def second(num_obj=1000):\n",
    "    X, Y = generate_KNN(num_obj=num_obj)\n",
    "    LR = LogisticRegression()\n",
    "    print('LogisticRegression:', np.mean((cross_val_score(LR, X, Y, scoring='accuracy', cv=KFold(5, random_state=231)))))\n",
    "    KNN = KNeighborsClassifier()\n",
    "    print('KNeighborsClassifier:', np.mean((cross_val_score(KNN, X, Y, scoring='accuracy', cv=KFold(5, random_state=231)))))"
   ]
  },
  {
   "cell_type": "code",
   "execution_count": 9,
   "metadata": {},
   "outputs": [
    {
     "name": "stdout",
     "output_type": "stream",
     "text": [
      "LogisticRegression: 0.1\n",
      "KNeighborsClassifier: 1.0\n"
     ]
    }
   ],
   "source": [
    "second()"
   ]
  },
  {
   "cell_type": "markdown",
   "metadata": {},
   "source": [
    "KNN в данном тесте сработал намного лучше, чем логистическая регрессия. С помощью LR невозможно провести линию, чтобы она разделяла классы хорошо. При KNN объекты одного класса находятся ближе, чем объекты другого, поэтому работает на 100%."
   ]
  },
  {
   "cell_type": "markdown",
   "metadata": {},
   "source": [
    "### 3. Сгенерировать датасет для задачи бинарной классификации (binary crossentropy), на котором метод ближайших соседей с косинусной метрикой расстояния работает лучше, чем с евклидовой метрикой."
   ]
  },
  {
   "cell_type": "markdown",
   "metadata": {},
   "source": [
    "##### Предположения относительно данных:\n",
    "* __Метод ближайших соседей с косинусной метрикой__\n",
    "Объекты одного класса имеют меньший угол между их векторами, чем объекты другого класса.\n",
    "\n",
    "* __Метод ближайших соседей с евклидовой метрикой__\n",
    "\n",
    "Используется в 2 предыдущих пунктах (кластеры на плоскости).\n",
    "\n",
    "##### Какая выборка нужна для доказательства No Free Lunch Theorem\n",
    "Здесь мы должны взять такую выборку, чтобы косинусное расстояние объектов одного класса было минимально. Минимально оно того, когда вектора совпадают, то есть угол равен 0. Такой случай - две прямые: точки расположены на одной прямой - векторе. У нас в 1 задании уже сгенерирован такой датасет."
   ]
  },
  {
   "cell_type": "code",
   "execution_count": 10,
   "metadata": {
    "collapsed": true
   },
   "outputs": [],
   "source": [
    "def third(num_obj=1000):\n",
    "    X, Y = generate_LR(num_obj=num_obj)\n",
    "    KNN_cos = KNeighborsClassifier(metric='cosine')\n",
    "    print('KNeighborsClassifier(cosine):', np.mean((cross_val_score(KNN_cos, X, Y, scoring='accuracy', cv=KFold(5, random_state=231)))))\n",
    "    KNN = KNeighborsClassifier()\n",
    "    print('KNeighborsClassifier(euclidean):', np.mean((cross_val_score(KNN, X, Y, scoring='accuracy', cv=KFold(5, random_state=231)))))"
   ]
  },
  {
   "cell_type": "code",
   "execution_count": 11,
   "metadata": {},
   "outputs": [
    {
     "name": "stdout",
     "output_type": "stream",
     "text": [
      "KNeighborsClassifier(cosine): 0.999\n",
      "KNeighborsClassifier(euclidean): 0.0\n"
     ]
    }
   ],
   "source": [
    "third()"
   ]
  },
  {
   "cell_type": "markdown",
   "metadata": {},
   "source": [
    "Как и предполагалось, так как угол равен нулю, косинусное расстояние самое маленькое, какое только может быть. С помощью косинусной метрики KNN справляется с классификацией такой выборки на 100%. А евклидовое расстояние между объектом одного и другого класса будет меньше, чем у одного и того же класса."
   ]
  },
  {
   "cell_type": "markdown",
   "metadata": {},
   "source": [
    "### 4. Сгенерировать датасет для задачи регрессии (MSE), на котором решающее дерево работает хуже, чем линейная регрессия."
   ]
  },
  {
   "cell_type": "markdown",
   "metadata": {},
   "source": [
    "##### Предположения относительно данных:\n",
    "* __Линейная регрессия__\n",
    "\n",
    "Линейная регрессия - это способ отобразить и описать форму зависимости между двумя обьектами линейной функцией зависимости.\n",
    "\n",
    "* __Решающее дерево__\n",
    "\n",
    "Для любой выборки можно построить решающее дерево, не допускающее на ней ни одной ошибки. Классы делятся линиями, которые параллельны осям координат.\n",
    "\n",
    "##### Какая выборка нужна для доказательства No Free Lunch Theorem\n",
    "Из вывода о том, что линии должны быть параллельны осям координат, можно предположиться, что если у нас будет прямая, то логистическая регрессия точно опишет зависимость между объектами, а решающее дерево будет приближаться к ней, но никогда не будет точной."
   ]
  },
  {
   "cell_type": "code",
   "execution_count": 12,
   "metadata": {
    "collapsed": true
   },
   "outputs": [],
   "source": [
    "def generate_LinR(num_obj=1000):\n",
    "    X = np.linspace(0, num_obj, num_obj).reshape(-1, 1)\n",
    "    Y = np.linspace(0, num_obj, num_obj)\n",
    "    return X, Y"
   ]
  },
  {
   "cell_type": "code",
   "execution_count": 13,
   "metadata": {},
   "outputs": [
    {
     "data": {
      "text/plain": [
       "<matplotlib.collections.PathCollection at 0x11470e5c0>"
      ]
     },
     "execution_count": 13,
     "metadata": {},
     "output_type": "execute_result"
    },
    {
     "data": {
      "image/png": "[encoded data removed]",
      "text/plain": [
       "<matplotlib.figure.Figure at 0x1146873c8>"
      ]
     },
     "metadata": {},
     "output_type": "display_data"
    }
   ],
   "source": [
    "X, Y = generate_LinR(num_obj=10)\n",
    "plt.scatter(X, Y)"
   ]
  },
  {
   "cell_type": "code",
   "execution_count": 14,
   "metadata": {},
   "outputs": [],
   "source": [
    "def forth(num_obj=1000):\n",
    "    X, Y = generate_LinR(num_obj=num_obj)\n",
    "    DT = DecisionTreeRegressor()\n",
    "    print('DecisionTreeRegressor:', np.mean((cross_val_score(DT, X, Y, scoring='mean_squared_error', cv=KFold(5, random_state=231)))))\n",
    "    LR = LinearRegression()\n",
    "    print('LinearRegression:', np.mean((cross_val_score(LR, X, Y, scoring='mean_squared_error', cv=KFold(5, random_state=231)))))"
   ]
  },
  {
   "cell_type": "code",
   "execution_count": 15,
   "metadata": {},
   "outputs": [
    {
     "name": "stdout",
     "output_type": "stream",
     "text": [
      "DecisionTreeRegressor: -7418.329240151063\n",
      "LinearRegression: -5.105430159607695e-26\n"
     ]
    }
   ],
   "source": [
    "forth()"
   ]
  },
  {
   "cell_type": "markdown",
   "metadata": {},
   "source": [
    "Предположение подтвердилось (пояснение перед экспериментом)."
   ]
  },
  {
   "cell_type": "code",
   "execution_count": null,
   "metadata": {
    "collapsed": true
   },
   "outputs": [],
   "source": []
  }
 ],
 "metadata": {
  "kernelspec": {
   "display_name": "Python 3",
   "language": "python",
   "name": "python3"
  },
  "language_info": {
   "codemirror_mode": {
    "name": "ipython",
    "version": 3
   },
   "file_extension": ".py",
   "mimetype": "text/x-python",
   "name": "python",
   "nbconvert_exporter": "python",
   "pygments_lexer": "ipython3",
   "version": "3.6.3"
  },
  "widgets": {
   "state": {},
   "version": "1.1.2"
  }
 },
 "nbformat": 4,
 "nbformat_minor": 2
}
